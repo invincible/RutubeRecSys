{
 "cells": [
  {
   "cell_type": "code",
   "execution_count": 1,
   "id": "4f03a2d2",
   "metadata": {},
   "outputs": [
    {
     "data": {
      "text/html": [
       "<style>.container { width:80% !important; }</style>"
      ],
      "text/plain": [
       "<IPython.core.display.HTML object>"
      ]
     },
     "metadata": {},
     "output_type": "display_data"
    },
    {
     "data": {
      "text/html": [
       "<style>.prompt { min-width:10ex !important; }</style>"
      ],
      "text/plain": [
       "<IPython.core.display.HTML object>"
      ]
     },
     "metadata": {},
     "output_type": "display_data"
    },
    {
     "data": {
      "text/html": [
       "<style>div#notebook { font-size:12px !important; }</style>"
      ],
      "text/plain": [
       "<IPython.core.display.HTML object>"
      ]
     },
     "metadata": {},
     "output_type": "display_data"
    }
   ],
   "source": [
    "%matplotlib inline\n",
    "\n",
    "import matplotlib.pyplot as plt\n",
    "import seaborn as sns\n",
    "colors = sns.color_palette(\"hls\")\n",
    "\n",
    "import random\n",
    "import datetime\n",
    "import numpy as np\n",
    "import gc\n",
    "import os\n",
    "import pickle\n",
    "\n",
    "import scipy.sparse as sp\n",
    "import pandas as pd\n",
    "from tqdm.auto import tqdm\n",
    "\n",
    "from itertools import islice, cycle\n",
    "from more_itertools import pairwise\n",
    "from implicit.nearest_neighbours import TFIDFRecommender\n",
    "from scipy.sparse.linalg import svds\n",
    "\n",
    "plt.rc('axes', labelsize=14)\n",
    "plt.rc('xtick', labelsize=12)\n",
    "plt.rc('ytick', labelsize=12)\n",
    "\n",
    "import seaborn as sns\n",
    "sns.set(style = 'whitegrid')\n",
    "sns.set(rc = {'figure.figsize':(17, 9)})\n",
    "\n",
    "from IPython import display\n",
    "display.display(display.HTML('<style>.container { width:80% !important; }</style>'))\n",
    "display.display(display.HTML('<style>.prompt { min-width:10ex !important; }</style>'))\n",
    "display.display(display.HTML('<style>div#notebook { font-size:12px !important; }</style>'))\n",
    "\n",
    "import warnings\n",
    "warnings.simplefilter(action = 'ignore', category = FutureWarning)\n",
    "warnings.simplefilter(action = 'ignore', category = DeprecationWarning)\n",
    "warnings.simplefilter(action = 'ignore', category = UserWarning)\n",
    "warnings.simplefilter(action = 'ignore', category = RuntimeWarning)\n",
    "warnings.filterwarnings(\"ignore\", message = \"numpy.dtype size changed\")\n",
    "warnings.filterwarnings(\"ignore\", message = \"numpy.ufunc size changed\")\n",
    "pd.options.mode.chained_assignment = None\n",
    "pd.set_option('mode.chained_assignment', None)\n",
    "\n",
    "\n",
    "path = '../input/'\n",
    "\n",
    "DEBUG = False\n",
    "\n",
    "user_id = 'user_id'\n",
    "item_id = 'item_id'\n",
    "rank = 'emoji'\n",
    "date = 'date'\n",
    "top_N = 10"
   ]
  },
  {
   "cell_type": "code",
   "execution_count": 2,
   "id": "4f9360e8",
   "metadata": {},
   "outputs": [
    {
     "data": {
      "text/html": [
       "<div>\n",
       "<style scoped>\n",
       "    .dataframe tbody tr th:only-of-type {\n",
       "        vertical-align: middle;\n",
       "    }\n",
       "\n",
       "    .dataframe tbody tr th {\n",
       "        vertical-align: top;\n",
       "    }\n",
       "\n",
       "    .dataframe thead th {\n",
       "        text-align: right;\n",
       "    }\n",
       "</style>\n",
       "<table border=\"1\" class=\"dataframe\">\n",
       "  <thead>\n",
       "    <tr style=\"text-align: right;\">\n",
       "      <th></th>\n",
       "      <th>date</th>\n",
       "      <th>user_id</th>\n",
       "      <th>item_id</th>\n",
       "      <th>watch_time</th>\n",
       "      <th>is_autorized</th>\n",
       "    </tr>\n",
       "  </thead>\n",
       "  <tbody>\n",
       "    <tr>\n",
       "      <th>0</th>\n",
       "      <td>2023-07-21 19:04:50+03:00</td>\n",
       "      <td>user_12964323</td>\n",
       "      <td>video_1042531</td>\n",
       "      <td>51</td>\n",
       "      <td>0</td>\n",
       "    </tr>\n",
       "    <tr>\n",
       "      <th>1</th>\n",
       "      <td>2023-07-21 02:02:41+03:00</td>\n",
       "      <td>user_16517</td>\n",
       "      <td>video_1707159</td>\n",
       "      <td>31</td>\n",
       "      <td>0</td>\n",
       "    </tr>\n",
       "    <tr>\n",
       "      <th>2</th>\n",
       "      <td>2023-07-21 22:00:47+03:00</td>\n",
       "      <td>user_15057892</td>\n",
       "      <td>video_1989987</td>\n",
       "      <td>9</td>\n",
       "      <td>0</td>\n",
       "    </tr>\n",
       "  </tbody>\n",
       "</table>\n",
       "</div>"
      ],
      "text/plain": [
       "                        date        user_id        item_id  watch_time  \\\n",
       "0  2023-07-21 19:04:50+03:00  user_12964323  video_1042531          51   \n",
       "1  2023-07-21 02:02:41+03:00     user_16517  video_1707159          31   \n",
       "2  2023-07-21 22:00:47+03:00  user_15057892  video_1989987           9   \n",
       "\n",
       "   is_autorized  \n",
       "0             0  \n",
       "1             0  \n",
       "2             0  "
      ]
     },
     "execution_count": 2,
     "metadata": {},
     "output_type": "execute_result"
    }
   ],
   "source": [
    "data = pd.read_parquet(path + \"player_starts_train.parquet\")\n",
    "data.head(3)"
   ]
  },
  {
   "cell_type": "code",
   "execution_count": 3,
   "id": "e60bd403",
   "metadata": {},
   "outputs": [
    {
     "data": {
      "text/html": [
       "<div>\n",
       "<style scoped>\n",
       "    .dataframe tbody tr th:only-of-type {\n",
       "        vertical-align: middle;\n",
       "    }\n",
       "\n",
       "    .dataframe tbody tr th {\n",
       "        vertical-align: top;\n",
       "    }\n",
       "\n",
       "    .dataframe thead th {\n",
       "        text-align: right;\n",
       "    }\n",
       "</style>\n",
       "<table border=\"1\" class=\"dataframe\">\n",
       "  <thead>\n",
       "    <tr style=\"text-align: right;\">\n",
       "      <th></th>\n",
       "      <th>item_id</th>\n",
       "      <th>video_title</th>\n",
       "      <th>author_title</th>\n",
       "      <th>tv_title</th>\n",
       "      <th>season</th>\n",
       "      <th>video_description</th>\n",
       "      <th>category_title</th>\n",
       "      <th>publicated</th>\n",
       "      <th>duration</th>\n",
       "      <th>channel_sub</th>\n",
       "      <th>tv_sub</th>\n",
       "      <th>ctr.CTR_10days_21_07</th>\n",
       "      <th>ctr.CTR_10days_01_08</th>\n",
       "      <th>ctr.CTR_10days_10_08</th>\n",
       "      <th>ctr.CTR_10days_21_08</th>\n",
       "    </tr>\n",
       "  </thead>\n",
       "  <tbody>\n",
       "    <tr>\n",
       "      <th>0</th>\n",
       "      <td>video_165654</td>\n",
       "      <td>MSI Pro MP241X недоОБЗОР (РЕШЕНИЕ ПРОБЛЕМЫ С М...</td>\n",
       "      <td>Silvi</td>\n",
       "      <td>None</td>\n",
       "      <td>0</td>\n",
       "      <td>В видео я обывательским взглядом расскажу про ...</td>\n",
       "      <td>Технологии и интернет</td>\n",
       "      <td>2022-12-08 13:53:05+03:00</td>\n",
       "      <td>391382</td>\n",
       "      <td>0</td>\n",
       "      <td>0</td>\n",
       "      <td>NaN</td>\n",
       "      <td>0.0</td>\n",
       "      <td>0.0</td>\n",
       "      <td>NaN</td>\n",
       "    </tr>\n",
       "    <tr>\n",
       "      <th>1</th>\n",
       "      <td>video_1173704</td>\n",
       "      <td>Наложение пястно фаланговой повязки на кисть</td>\n",
       "      <td>УЦ \"Академия Безопасности\"</td>\n",
       "      <td>None</td>\n",
       "      <td>0</td>\n",
       "      <td>Видео с канала УЦ Академия безопасности (ab-dp...</td>\n",
       "      <td>Образование</td>\n",
       "      <td>2022-03-24 09:19:15+03:00</td>\n",
       "      <td>125922</td>\n",
       "      <td>26</td>\n",
       "      <td>0</td>\n",
       "      <td>NaN</td>\n",
       "      <td>0.0</td>\n",
       "      <td>0.0</td>\n",
       "      <td>0.0</td>\n",
       "    </tr>\n",
       "    <tr>\n",
       "      <th>2</th>\n",
       "      <td>video_23927</td>\n",
       "      <td>SilverstoneF1 Sochi Pro и Neoline x cop 6000s ...</td>\n",
       "      <td>Artur48</td>\n",
       "      <td>None</td>\n",
       "      <td>0</td>\n",
       "      <td>SilverstoneF1 Sochi Pro и Neoline x cop 6000s ...</td>\n",
       "      <td>Авто-мото</td>\n",
       "      <td>2022-03-19 17:41:49+03:00</td>\n",
       "      <td>436570</td>\n",
       "      <td>2</td>\n",
       "      <td>0</td>\n",
       "      <td>NaN</td>\n",
       "      <td>NaN</td>\n",
       "      <td>0.0</td>\n",
       "      <td>0.0</td>\n",
       "    </tr>\n",
       "  </tbody>\n",
       "</table>\n",
       "</div>"
      ],
      "text/plain": [
       "         item_id                                        video_title  \\\n",
       "0   video_165654  MSI Pro MP241X недоОБЗОР (РЕШЕНИЕ ПРОБЛЕМЫ С М...   \n",
       "1  video_1173704       Наложение пястно фаланговой повязки на кисть   \n",
       "2    video_23927  SilverstoneF1 Sochi Pro и Neoline x cop 6000s ...   \n",
       "\n",
       "                 author_title tv_title  season  \\\n",
       "0                       Silvi     None       0   \n",
       "1  УЦ \"Академия Безопасности\"     None       0   \n",
       "2                     Artur48     None       0   \n",
       "\n",
       "                                   video_description         category_title  \\\n",
       "0  В видео я обывательским взглядом расскажу про ...  Технологии и интернет   \n",
       "1  Видео с канала УЦ Академия безопасности (ab-dp...            Образование   \n",
       "2  SilverstoneF1 Sochi Pro и Neoline x cop 6000s ...              Авто-мото   \n",
       "\n",
       "                  publicated  duration  channel_sub  tv_sub  \\\n",
       "0  2022-12-08 13:53:05+03:00    391382            0       0   \n",
       "1  2022-03-24 09:19:15+03:00    125922           26       0   \n",
       "2  2022-03-19 17:41:49+03:00    436570            2       0   \n",
       "\n",
       "   ctr.CTR_10days_21_07  ctr.CTR_10days_01_08  ctr.CTR_10days_10_08  \\\n",
       "0                   NaN                   0.0                   0.0   \n",
       "1                   NaN                   0.0                   0.0   \n",
       "2                   NaN                   NaN                   0.0   \n",
       "\n",
       "   ctr.CTR_10days_21_08  \n",
       "0                   NaN  \n",
       "1                   0.0  \n",
       "2                   0.0  "
      ]
     },
     "execution_count": 3,
     "metadata": {},
     "output_type": "execute_result"
    }
   ],
   "source": [
    "videos = pd.read_parquet(path + \"videos.parquet\")\n",
    "videos.head(3)"
   ]
  },
  {
   "cell_type": "code",
   "execution_count": null,
   "id": "e8dde699",
   "metadata": {},
   "outputs": [],
   "source": []
  },
  {
   "cell_type": "code",
   "execution_count": 4,
   "id": "e6c770e4",
   "metadata": {},
   "outputs": [
    {
     "data": {
      "text/html": [
       "<div>\n",
       "<style scoped>\n",
       "    .dataframe tbody tr th:only-of-type {\n",
       "        vertical-align: middle;\n",
       "    }\n",
       "\n",
       "    .dataframe tbody tr th {\n",
       "        vertical-align: top;\n",
       "    }\n",
       "\n",
       "    .dataframe thead th {\n",
       "        text-align: right;\n",
       "    }\n",
       "</style>\n",
       "<table border=\"1\" class=\"dataframe\">\n",
       "  <thead>\n",
       "    <tr style=\"text-align: right;\">\n",
       "      <th></th>\n",
       "      <th>user_id</th>\n",
       "      <th>recs</th>\n",
       "    </tr>\n",
       "  </thead>\n",
       "  <tbody>\n",
       "    <tr>\n",
       "      <th>0</th>\n",
       "      <td>user_26511551</td>\n",
       "      <td>['video_0', 'video_0', 'video_0', 'video_0', '...</td>\n",
       "    </tr>\n",
       "    <tr>\n",
       "      <th>1</th>\n",
       "      <td>user_29194819</td>\n",
       "      <td>['video_0', 'video_0', 'video_0', 'video_0', '...</td>\n",
       "    </tr>\n",
       "    <tr>\n",
       "      <th>2</th>\n",
       "      <td>user_29734049</td>\n",
       "      <td>['video_0', 'video_0', 'video_0', 'video_0', '...</td>\n",
       "    </tr>\n",
       "  </tbody>\n",
       "</table>\n",
       "</div>"
      ],
      "text/plain": [
       "         user_id                                               recs\n",
       "0  user_26511551  ['video_0', 'video_0', 'video_0', 'video_0', '...\n",
       "1  user_29194819  ['video_0', 'video_0', 'video_0', 'video_0', '...\n",
       "2  user_29734049  ['video_0', 'video_0', 'video_0', 'video_0', '..."
      ]
     },
     "execution_count": 4,
     "metadata": {},
     "output_type": "execute_result"
    }
   ],
   "source": [
    "submission = pd.read_csv(path + \"sample_submission.csv\")\n",
    "submission.head(3)"
   ]
  },
  {
   "cell_type": "code",
   "execution_count": 5,
   "id": "d550085f",
   "metadata": {},
   "outputs": [
    {
     "name": "stdout",
     "output_type": "stream",
     "text": [
      "Mem. usage decreased to 1934.70 Mb (27.5% reduction)\n",
      "Mem. usage decreased to 181.48 Mb (31.7% reduction)\n",
      "Mem. usage decreased to  1.48 Mb (0.0% reduction)\n"
     ]
    }
   ],
   "source": [
    "def reduce_mem_usage(df, verbose = True):\n",
    "    numerics = ['int16', 'int32', 'int64', 'float16', 'float32', 'float64']\n",
    "    start_mem = df.memory_usage().sum() / 1024**2\n",
    "    for col in df.columns:\n",
    "        col_type = df[col].dtypes\n",
    "        if col_type in numerics:\n",
    "            c_min = df[col].min()\n",
    "            c_max = df[col].max()\n",
    "            if str(col_type)[:3] == 'int':\n",
    "                if c_min > np.iinfo(np.int8).min and c_max < np.iinfo(np.int8).max:\n",
    "                    df[col] = df[col].astype(np.int8)\n",
    "                elif c_min > np.iinfo(np.int16).min and c_max < np.iinfo(np.int16).max:\n",
    "                    df[col] = df[col].astype(np.int16)\n",
    "                elif c_min > np.iinfo(np.int32).min and c_max < np.iinfo(np.int32).max:\n",
    "                    df[col] = df[col].astype(np.int32)\n",
    "                elif c_min > np.iinfo(np.int64).min and c_max < np.iinfo(np.int64).max:\n",
    "                    df[col] = df[col].astype(np.int64)\n",
    "            else:\n",
    "                if c_min > np.finfo(np.float16).min and c_max < np.finfo(np.float16).max:\n",
    "                    df[col] = df[col].astype(np.float16)\n",
    "                elif c_min > np.finfo(np.float32).min and c_max < np.finfo(np.float32).max:\n",
    "                    df[col] = df[col].astype(np.float32)\n",
    "                else:\n",
    "                    df[col] = df[col].astype(np.float64)\n",
    "    end_mem = df.memory_usage().sum() / 1024**2\n",
    "    if verbose: print('Mem. usage decreased to {:5.2f} Mb ({:.1f}% reduction)'.format(end_mem, 100 * (start_mem - end_mem) / start_mem))\n",
    "    return df\n",
    "\n",
    "reduce_mem_usage(data);\n",
    "reduce_mem_usage(videos);\n",
    "reduce_mem_usage(submission);"
   ]
  },
  {
   "cell_type": "code",
   "execution_count": 6,
   "id": "00ba4c98",
   "metadata": {},
   "outputs": [
    {
     "name": "stdout",
     "output_type": "stream",
     "text": [
      "28800762\n",
      "(69954380, 5) (2320660, 15)\n",
      "28800762\n",
      "(69954380, 5) (2320660, 15)\n",
      "CPU times: user 23.4 s, sys: 362 ms, total: 23.8 s\n",
      "Wall time: 23.9 s\n"
     ]
    }
   ],
   "source": [
    "%%time\n",
    "\n",
    "user_ids = data['user_id'].unique()\n",
    "print(len(user_ids))\n",
    "print(data.shape, videos.shape)\n",
    "\n",
    "if DEBUG:\n",
    "    user_ids = user_ids[:288007]\n",
    "    \n",
    "    data = data[data[user_id].isin(user_ids)]\n",
    "    item_ids = data[item_id].unique()    \n",
    "    videos = videos[videos[item_id].isin(item_ids)]\n",
    "    gc.collect()\n",
    "\n",
    "#data.drop_duplicates(subset = ['user_id', 'item_id'], keep = False)    \n",
    "    \n",
    "print(len(user_ids))\n",
    "print(data.shape, videos.shape)"
   ]
  },
  {
   "cell_type": "code",
   "execution_count": 7,
   "id": "c1a30274",
   "metadata": {},
   "outputs": [],
   "source": [
    "data[date] = pd.to_datetime(data[date], format = '%Y-%m-%d')"
   ]
  },
  {
   "cell_type": "code",
   "execution_count": 8,
   "id": "c0407b42",
   "metadata": {},
   "outputs": [],
   "source": [
    "remove = [\n",
    "    'video_description', 'author_title', 'tv_title', 'season', 'publicated', 'channel_sub', \n",
    "    'tv_sub', 'ctr.CTR_10days_21_07', 'ctr.CTR_10days_01_08', 'ctr.CTR_10days_10_08', 'ctr.CTR_10days_21_08'\n",
    "]\n",
    "\n",
    "videos.drop(remove, axis = 1, inplace = True)"
   ]
  },
  {
   "cell_type": "code",
   "execution_count": 9,
   "id": "584d82ae",
   "metadata": {},
   "outputs": [
    {
     "data": {
      "text/plain": [
       "0"
      ]
     },
     "execution_count": 9,
     "metadata": {},
     "output_type": "execute_result"
    }
   ],
   "source": [
    "data = data.merge(videos, how = 'left', on = 'item_id')\n",
    "del videos; gc.collect()"
   ]
  },
  {
   "cell_type": "code",
   "execution_count": 10,
   "id": "213f3792",
   "metadata": {},
   "outputs": [
    {
     "data": {
      "text/plain": [
       "18"
      ]
     },
     "execution_count": 10,
     "metadata": {},
     "output_type": "execute_result"
    }
   ],
   "source": [
    "# Исключаем видео без watch_time\n",
    "\n",
    "data = data[data['watch_time']!=-1]\n",
    "gc.collect()"
   ]
  },
  {
   "cell_type": "markdown",
   "id": "2b79cbff",
   "metadata": {},
   "source": [
    "# Для проверки моделей возмем часть тренировочных данных, которые не будут участвовать в тренировке моделей."
   ]
  },
  {
   "cell_type": "code",
   "execution_count": 11,
   "id": "db4aaa6e",
   "metadata": {},
   "outputs": [
    {
     "name": "stdout",
     "output_type": "stream",
     "text": [
      "количество пользователей в тренировочных данных  22661012\n",
      "количество пользователей в валидационных данных  6205665\n",
      "(53526149, 8) (12850741, 8)\n"
     ]
    }
   ],
   "source": [
    "# Отделим 5 дней на вилидацию, остальное на тренировку.\n",
    "\n",
    "time_split = '2023-08-16'\n",
    "\n",
    "train = data[data[date] < time_split]\n",
    "valid = data[data[date] >= time_split]\n",
    "gc.collect()\n",
    "\n",
    "del data\n",
    "\n",
    "print('количество пользователей в тренировочных данных ', len(train[user_id].unique()))\n",
    "print('количество пользователей в валидационных данных ', len(valid[user_id].unique()))\n",
    "\n",
    "print(train.shape, valid.shape)"
   ]
  },
  {
   "cell_type": "code",
   "execution_count": 12,
   "id": "e7954aa7",
   "metadata": {},
   "outputs": [
    {
     "data": {
      "text/html": [
       "<div>\n",
       "<style scoped>\n",
       "    .dataframe tbody tr th:only-of-type {\n",
       "        vertical-align: middle;\n",
       "    }\n",
       "\n",
       "    .dataframe tbody tr th {\n",
       "        vertical-align: top;\n",
       "    }\n",
       "\n",
       "    .dataframe thead th {\n",
       "        text-align: right;\n",
       "    }\n",
       "</style>\n",
       "<table border=\"1\" class=\"dataframe\">\n",
       "  <thead>\n",
       "    <tr style=\"text-align: right;\">\n",
       "      <th></th>\n",
       "      <th>date</th>\n",
       "      <th>user_id</th>\n",
       "      <th>item_id</th>\n",
       "      <th>watch_time</th>\n",
       "      <th>is_autorized</th>\n",
       "      <th>video_title</th>\n",
       "      <th>category_title</th>\n",
       "      <th>duration</th>\n",
       "    </tr>\n",
       "  </thead>\n",
       "  <tbody>\n",
       "    <tr>\n",
       "      <th>0</th>\n",
       "      <td>2023-07-21 19:04:50+03:00</td>\n",
       "      <td>user_12964323</td>\n",
       "      <td>video_1042531</td>\n",
       "      <td>51</td>\n",
       "      <td>0</td>\n",
       "      <td>ШОК! ТОП 10 ФЕЙЛОВ, КОТОРЫЕ ВАС ТОЧНО УДИВЯТ!</td>\n",
       "      <td>Развлечения</td>\n",
       "      <td>213718</td>\n",
       "    </tr>\n",
       "    <tr>\n",
       "      <th>1</th>\n",
       "      <td>2023-07-21 02:02:41+03:00</td>\n",
       "      <td>user_16517</td>\n",
       "      <td>video_1707159</td>\n",
       "      <td>31</td>\n",
       "      <td>0</td>\n",
       "      <td>песня-В ЛУННОМ СИЯНИИ</td>\n",
       "      <td>Музыка</td>\n",
       "      <td>129562</td>\n",
       "    </tr>\n",
       "    <tr>\n",
       "      <th>2</th>\n",
       "      <td>2023-07-21 22:00:47+03:00</td>\n",
       "      <td>user_15057892</td>\n",
       "      <td>video_1989987</td>\n",
       "      <td>9</td>\n",
       "      <td>0</td>\n",
       "      <td>Юлия Пересильд о дружбе с мужчинами</td>\n",
       "      <td>Лайфстайл</td>\n",
       "      <td>242006</td>\n",
       "    </tr>\n",
       "  </tbody>\n",
       "</table>\n",
       "</div>"
      ],
      "text/plain": [
       "                       date        user_id        item_id  watch_time  \\\n",
       "0 2023-07-21 19:04:50+03:00  user_12964323  video_1042531          51   \n",
       "1 2023-07-21 02:02:41+03:00     user_16517  video_1707159          31   \n",
       "2 2023-07-21 22:00:47+03:00  user_15057892  video_1989987           9   \n",
       "\n",
       "   is_autorized                                    video_title category_title  \\\n",
       "0             0  ШОК! ТОП 10 ФЕЙЛОВ, КОТОРЫЕ ВАС ТОЧНО УДИВЯТ!    Развлечения   \n",
       "1             0                          песня-В ЛУННОМ СИЯНИИ         Музыка   \n",
       "2             0            Юлия Пересильд о дружбе с мужчинами      Лайфстайл   \n",
       "\n",
       "   duration  \n",
       "0    213718  \n",
       "1    129562  \n",
       "2    242006  "
      ]
     },
     "execution_count": 12,
     "metadata": {},
     "output_type": "execute_result"
    }
   ],
   "source": [
    "train.head(3)"
   ]
  },
  {
   "cell_type": "code",
   "execution_count": 13,
   "id": "c2cdc576",
   "metadata": {},
   "outputs": [
    {
     "data": {
      "text/html": [
       "<div>\n",
       "<style scoped>\n",
       "    .dataframe tbody tr th:only-of-type {\n",
       "        vertical-align: middle;\n",
       "    }\n",
       "\n",
       "    .dataframe tbody tr th {\n",
       "        vertical-align: top;\n",
       "    }\n",
       "\n",
       "    .dataframe thead th {\n",
       "        text-align: right;\n",
       "    }\n",
       "</style>\n",
       "<table border=\"1\" class=\"dataframe\">\n",
       "  <thead>\n",
       "    <tr style=\"text-align: right;\">\n",
       "      <th></th>\n",
       "      <th>date</th>\n",
       "      <th>user_id</th>\n",
       "      <th>item_id</th>\n",
       "      <th>watch_time</th>\n",
       "      <th>is_autorized</th>\n",
       "      <th>video_title</th>\n",
       "      <th>category_title</th>\n",
       "      <th>duration</th>\n",
       "    </tr>\n",
       "  </thead>\n",
       "  <tbody>\n",
       "    <tr>\n",
       "      <th>56242112</th>\n",
       "      <td>2023-08-16 21:50:43+03:00</td>\n",
       "      <td>user_8599328</td>\n",
       "      <td>video_1009706</td>\n",
       "      <td>0</td>\n",
       "      <td>0</td>\n",
       "      <td>Марина Александрова раскрыла секреты воспитани...</td>\n",
       "      <td>Развлечения</td>\n",
       "      <td>25151</td>\n",
       "    </tr>\n",
       "    <tr>\n",
       "      <th>56242113</th>\n",
       "      <td>2023-08-16 21:25:20+03:00</td>\n",
       "      <td>user_13657319</td>\n",
       "      <td>video_1858819</td>\n",
       "      <td>2</td>\n",
       "      <td>0</td>\n",
       "      <td>ЧВК «Вагнер». Контракт с Родиной</td>\n",
       "      <td>Фильмы</td>\n",
       "      <td>1572096</td>\n",
       "    </tr>\n",
       "    <tr>\n",
       "      <th>56242114</th>\n",
       "      <td>2023-08-16 08:56:56+03:00</td>\n",
       "      <td>user_1229611</td>\n",
       "      <td>video_965653</td>\n",
       "      <td>12</td>\n",
       "      <td>0</td>\n",
       "      <td>Шоу Воли, 1 выпуск</td>\n",
       "      <td>Телепередачи</td>\n",
       "      <td>3542000</td>\n",
       "    </tr>\n",
       "  </tbody>\n",
       "</table>\n",
       "</div>"
      ],
      "text/plain": [
       "                              date        user_id        item_id  watch_time  \\\n",
       "56242112 2023-08-16 21:50:43+03:00   user_8599328  video_1009706           0   \n",
       "56242113 2023-08-16 21:25:20+03:00  user_13657319  video_1858819           2   \n",
       "56242114 2023-08-16 08:56:56+03:00   user_1229611   video_965653          12   \n",
       "\n",
       "          is_autorized                                        video_title  \\\n",
       "56242112             0  Марина Александрова раскрыла секреты воспитани...   \n",
       "56242113             0                   ЧВК «Вагнер». Контракт с Родиной   \n",
       "56242114             0                                 Шоу Воли, 1 выпуск   \n",
       "\n",
       "         category_title  duration  \n",
       "56242112    Развлечения     25151  \n",
       "56242113         Фильмы   1572096  \n",
       "56242114   Телепередачи   3542000  "
      ]
     },
     "execution_count": 13,
     "metadata": {},
     "output_type": "execute_result"
    }
   ],
   "source": [
    "valid.head(3)"
   ]
  },
  {
   "cell_type": "code",
   "execution_count": null,
   "id": "6700510b",
   "metadata": {},
   "outputs": [],
   "source": []
  },
  {
   "cell_type": "markdown",
   "id": "fa779725",
   "metadata": {},
   "source": [
    "# Метрика"
   ]
  },
  {
   "cell_type": "code",
   "execution_count": 14,
   "id": "ae21732f",
   "metadata": {},
   "outputs": [],
   "source": [
    "def apk(actual, predicted, k = 10):\n",
    "    if not actual:\n",
    "        return 0.0\n",
    "\n",
    "    if len(predicted) > k:\n",
    "        predicted = predicted[:k]\n",
    "        \n",
    "    actual = list(set(actual))\n",
    "    predicted = list(set(predicted))\n",
    "\n",
    "    score = 0.0\n",
    "    num_hits = 0.0\n",
    "\n",
    "    for i, p in enumerate(predicted):\n",
    "        if p in actual and p not in predicted[:i]:\n",
    "            num_hits += 1.0\n",
    "            score += num_hits / (i+1.0)\n",
    "\n",
    "    return score / min(len(actual), k)\n",
    "\n",
    "def mapk(actual, predicted, k = 10):\n",
    "    return np.mean([apk(a,p,k) for a,p in zip(actual, predicted)])"
   ]
  },
  {
   "cell_type": "code",
   "execution_count": 15,
   "id": "c65fdef9",
   "metadata": {},
   "outputs": [
    {
     "data": {
      "text/plain": [
       "0.909750566893424"
      ]
     },
     "execution_count": 15,
     "metadata": {},
     "output_type": "execute_result"
    }
   ],
   "source": [
    "# Проверим метрику\n",
    "\n",
    "actual    = ['video_0', 'video_1', 'video_2',  'video_3',  'video_5', 'video_6',  'video_7', 'video_9', 'video_9']\n",
    "predicted = ['video_0', 'video_0', 'video_11', 'video_13', 'video_5', 'video_16', 'video_7', 'video_9', 'video_10']\n",
    "\n",
    "mapk(actual, predicted, k = 10)"
   ]
  },
  {
   "cell_type": "code",
   "execution_count": null,
   "id": "c0301fd6",
   "metadata": {},
   "outputs": [],
   "source": []
  },
  {
   "cell_type": "code",
   "execution_count": 16,
   "id": "5d08ecac",
   "metadata": {},
   "outputs": [
    {
     "data": {
      "text/html": [
       "<div>\n",
       "<style scoped>\n",
       "    .dataframe tbody tr th:only-of-type {\n",
       "        vertical-align: middle;\n",
       "    }\n",
       "\n",
       "    .dataframe tbody tr th {\n",
       "        vertical-align: top;\n",
       "    }\n",
       "\n",
       "    .dataframe thead th {\n",
       "        text-align: right;\n",
       "    }\n",
       "</style>\n",
       "<table border=\"1\" class=\"dataframe\">\n",
       "  <thead>\n",
       "    <tr style=\"text-align: right;\">\n",
       "      <th></th>\n",
       "      <th>user_id</th>\n",
       "      <th>item_id</th>\n",
       "    </tr>\n",
       "  </thead>\n",
       "  <tbody>\n",
       "    <tr>\n",
       "      <th>0</th>\n",
       "      <td>user_1000</td>\n",
       "      <td>[video_1125407]</td>\n",
       "    </tr>\n",
       "    <tr>\n",
       "      <th>1</th>\n",
       "      <td>user_100000</td>\n",
       "      <td>[video_1411578]</td>\n",
       "    </tr>\n",
       "    <tr>\n",
       "      <th>2</th>\n",
       "      <td>user_1000000</td>\n",
       "      <td>[video_1104709]</td>\n",
       "    </tr>\n",
       "    <tr>\n",
       "      <th>3</th>\n",
       "      <td>user_10000000</td>\n",
       "      <td>[video_352866, video_435990, video_352866, vid...</td>\n",
       "    </tr>\n",
       "    <tr>\n",
       "      <th>4</th>\n",
       "      <td>user_10000001</td>\n",
       "      <td>[video_1250322]</td>\n",
       "    </tr>\n",
       "  </tbody>\n",
       "</table>\n",
       "</div>"
      ],
      "text/plain": [
       "         user_id                                            item_id\n",
       "0      user_1000                                    [video_1125407]\n",
       "1    user_100000                                    [video_1411578]\n",
       "2   user_1000000                                    [video_1104709]\n",
       "3  user_10000000  [video_352866, video_435990, video_352866, vid...\n",
       "4  user_10000001                                    [video_1250322]"
      ]
     },
     "execution_count": 16,
     "metadata": {},
     "output_type": "execute_result"
    }
   ],
   "source": [
    "valid_sub = valid.groupby(user_id)[item_id].apply(lambda x: list(x.values)).reset_index()\n",
    "valid_sub.head(5)"
   ]
  },
  {
   "cell_type": "code",
   "execution_count": null,
   "id": "befbc3ce",
   "metadata": {},
   "outputs": [],
   "source": []
  },
  {
   "cell_type": "markdown",
   "id": "1dbf400c",
   "metadata": {},
   "source": [
    "# 1. Расчет рекомендаций из топ-10 самых просматриваемых."
   ]
  },
  {
   "cell_type": "code",
   "execution_count": 17,
   "id": "6cb36318",
   "metadata": {},
   "outputs": [],
   "source": [
    "class PopularRecommender():\n",
    "    def __init__(self, max_K = 10, days = 30, item_column = item_id, dt_column = date):\n",
    "        self.max_K = max_K\n",
    "        self.days = days\n",
    "        self.item_column = item_column\n",
    "        self.dt_column = dt_column\n",
    "        self.recommendations = []\n",
    "        \n",
    "    def fit(self, df, ):\n",
    "        min_date = df[self.dt_column].max().normalize() - pd.DateOffset(days = self.days)\n",
    "        self.recommendations = df.loc[df[self.dt_column] > min_date, self.item_column].value_counts().head(self.max_K).index.values\n",
    "    \n",
    "    def recommend(self, users = None, N = 10):\n",
    "        recs = self.recommendations[:N]      \n",
    "        \n",
    "        if users is None:\n",
    "            return recs\n",
    "        else:\n",
    "            return list(islice(cycle([recs]), len(users)))"
   ]
  },
  {
   "cell_type": "code",
   "execution_count": 18,
   "id": "5bbb061e",
   "metadata": {},
   "outputs": [],
   "source": [
    "pop_model = PopularRecommender(days = 10, dt_column = date)\n",
    "pop_model.fit(train)"
   ]
  },
  {
   "cell_type": "code",
   "execution_count": 19,
   "id": "6c07cb17",
   "metadata": {},
   "outputs": [
    {
     "data": {
      "text/plain": [
       "['video_1594159',\n",
       " 'video_170129',\n",
       " 'video_1508131',\n",
       " 'video_68646',\n",
       " 'video_1761620',\n",
       " 'video_302657',\n",
       " 'video_2052690',\n",
       " 'video_803844',\n",
       " 'video_1508623',\n",
       " 'video_255770']"
      ]
     },
     "execution_count": 19,
     "metadata": {},
     "output_type": "execute_result"
    }
   ],
   "source": [
    "top10_recs = pop_model.recommend()\n",
    "list(top10_recs)"
   ]
  },
  {
   "cell_type": "code",
   "execution_count": 20,
   "id": "97e3bb33",
   "metadata": {},
   "outputs": [],
   "source": [
    "with open(\"top10_recs.pkl\", \"wb\") as file:\n",
    "    pickle.dump(top10_recs, file)"
   ]
  },
  {
   "cell_type": "code",
   "execution_count": 21,
   "id": "a163c5d0",
   "metadata": {},
   "outputs": [
    {
     "name": "stdout",
     "output_type": "stream",
     "text": [
      "['Телепередачи' 'Выжить в Дубае, 7 выпуск']\n",
      "['Искусство' 'Филипп Янковский высказался об Андрее Тарковском']\n",
      "['Лайфстайл'\n",
      " 'Анастасия Попова («Бэби-тур») высказалась об обнаженных сценах']\n",
      "['Телепередачи' 'Выжить в Дубае, 8 выпуск']\n",
      "['Телепередачи' 'Соловьёв LIVE | Круглосуточный канал']\n",
      "['Телепередачи' 'Выжить в Дубае, 6 выпуск']\n",
      "['Телепередачи' 'Прямой эфир ТНТ']\n",
      "['Телепередачи' 'Прямой эфир Звезда']\n",
      "['Телепередачи' 'Выжить в Дубае, 1 выпуск']\n",
      "['Телепередачи' 'Прямой эфир ТВ-3']\n"
     ]
    }
   ],
   "source": [
    "# Проверяем из каких категорий получился топ-10\n",
    "\n",
    "for item in top10_recs:\n",
    "    print(train[['category_title', 'video_title']][train[item_id] == item].values[0])"
   ]
  },
  {
   "cell_type": "code",
   "execution_count": 22,
   "id": "58c28e6f",
   "metadata": {},
   "outputs": [
    {
     "data": {
      "text/html": [
       "<div>\n",
       "<style scoped>\n",
       "    .dataframe tbody tr th:only-of-type {\n",
       "        vertical-align: middle;\n",
       "    }\n",
       "\n",
       "    .dataframe tbody tr th {\n",
       "        vertical-align: top;\n",
       "    }\n",
       "\n",
       "    .dataframe thead th {\n",
       "        text-align: right;\n",
       "    }\n",
       "</style>\n",
       "<table border=\"1\" class=\"dataframe\">\n",
       "  <thead>\n",
       "    <tr style=\"text-align: right;\">\n",
       "      <th></th>\n",
       "      <th>user_id</th>\n",
       "      <th>item_id</th>\n",
       "    </tr>\n",
       "  </thead>\n",
       "  <tbody>\n",
       "    <tr>\n",
       "      <th>0</th>\n",
       "      <td>user_1000</td>\n",
       "      <td>[video_1594159, video_170129, video_1508131, v...</td>\n",
       "    </tr>\n",
       "    <tr>\n",
       "      <th>1</th>\n",
       "      <td>user_100000</td>\n",
       "      <td>[video_1594159, video_170129, video_1508131, v...</td>\n",
       "    </tr>\n",
       "    <tr>\n",
       "      <th>2</th>\n",
       "      <td>user_1000000</td>\n",
       "      <td>[video_1594159, video_170129, video_1508131, v...</td>\n",
       "    </tr>\n",
       "    <tr>\n",
       "      <th>3</th>\n",
       "      <td>user_10000000</td>\n",
       "      <td>[video_1594159, video_170129, video_1508131, v...</td>\n",
       "    </tr>\n",
       "    <tr>\n",
       "      <th>4</th>\n",
       "      <td>user_10000001</td>\n",
       "      <td>[video_1594159, video_170129, video_1508131, v...</td>\n",
       "    </tr>\n",
       "  </tbody>\n",
       "</table>\n",
       "</div>"
      ],
      "text/plain": [
       "         user_id                                            item_id\n",
       "0      user_1000  [video_1594159, video_170129, video_1508131, v...\n",
       "1    user_100000  [video_1594159, video_170129, video_1508131, v...\n",
       "2   user_1000000  [video_1594159, video_170129, video_1508131, v...\n",
       "3  user_10000000  [video_1594159, video_170129, video_1508131, v...\n",
       "4  user_10000001  [video_1594159, video_170129, video_1508131, v..."
      ]
     },
     "execution_count": 22,
     "metadata": {},
     "output_type": "execute_result"
    }
   ],
   "source": [
    "pred_sub = valid_sub.copy()\n",
    "pred_sub = pred_sub.groupby(user_id)[item_id].apply(lambda x: list(top10_recs)).reset_index()\n",
    "pred_sub.head(5)"
   ]
  },
  {
   "cell_type": "code",
   "execution_count": 23,
   "id": "ade3e470",
   "metadata": {},
   "outputs": [
    {
     "data": {
      "text/plain": [
       "0.020709042050586744"
      ]
     },
     "execution_count": 23,
     "metadata": {},
     "output_type": "execute_result"
    }
   ],
   "source": [
    "# Считаем метрику\n",
    "\n",
    "mapk(valid_sub[item_id].values, pred_sub[item_id].values, k = 10)"
   ]
  },
  {
   "cell_type": "markdown",
   "id": "2f94c834",
   "metadata": {},
   "source": [
    "# Проверим как изменяется метрика от количесва анализуруемых дней"
   ]
  },
  {
   "cell_type": "code",
   "execution_count": 24,
   "id": "a326a2a9",
   "metadata": {},
   "outputs": [
    {
     "data": {
      "application/vnd.jupyter.widget-view+json": {
       "model_id": "c774ea978445462f8f6e04154dbf4492",
       "version_major": 2,
       "version_minor": 0
      },
      "text/plain": [
       "  0%|          | 0/7 [00:00<?, ?it/s]"
      ]
     },
     "metadata": {},
     "output_type": "display_data"
    },
    {
     "name": "stdout",
     "output_type": "stream",
     "text": [
      "кол-во дней для анализа 1 метрика 0.01846\n",
      "кол-во дней для анализа 3 метрика 0.02071\n",
      "кол-во дней для анализа 5 метрика 0.02071\n",
      "кол-во дней для анализа 7 метрика 0.02003\n",
      "кол-во дней для анализа 9 метрика 0.02003\n",
      "кол-во дней для анализа 11 метрика 0.02003\n",
      "кол-во дней для анализа 13 метрика 0.01917\n"
     ]
    }
   ],
   "source": [
    "top10_recs = []\n",
    "\n",
    "for day in tqdm(range(1, 15, 2)):\n",
    "    pop_model = PopularRecommender(days = day, dt_column = date)\n",
    "    pop_model.fit(train)\n",
    "    top10 = pop_model.recommend()\n",
    "    top10 = list(set(top10))\n",
    "    \n",
    "    pred_sub = valid_sub.copy()\n",
    "    pred_sub = pred_sub.groupby(user_id)[item_id].apply(lambda x: list(top10)).reset_index()\n",
    "    m = mapk(valid_sub[item_id].values, pred_sub[item_id].values, k = 10)\n",
    "    \n",
    "    print('кол-во дней для анализа', day, 'метрика', np.round(m, 5))\n",
    "    top10_recs.append(top10)"
   ]
  },
  {
   "cell_type": "code",
   "execution_count": 25,
   "id": "19cba2ec",
   "metadata": {},
   "outputs": [],
   "source": [
    "temp = pd.concat([train, valid], ignore_index = True)"
   ]
  },
  {
   "cell_type": "code",
   "execution_count": 26,
   "id": "b5d4802a",
   "metadata": {},
   "outputs": [],
   "source": [
    "pop_model = PopularRecommender(days = 5, dt_column = date)\n",
    "pop_model.fit(temp)\n",
    "top10 = pop_model.recommend()\n",
    "top10_recs.append(top10)\n",
    "\n",
    "del temp"
   ]
  },
  {
   "cell_type": "code",
   "execution_count": 27,
   "id": "892c404c",
   "metadata": {},
   "outputs": [],
   "source": [
    "with open(\"top10_recs_full.pkl\", \"wb\") as file:\n",
    "    pickle.dump(top10_recs, file)"
   ]
  },
  {
   "cell_type": "code",
   "execution_count": null,
   "id": "2601955d",
   "metadata": {},
   "outputs": [],
   "source": []
  },
  {
   "cell_type": "markdown",
   "id": "0d608ce6",
   "metadata": {},
   "source": [
    "# Выводы: \n",
    "## Для \"холодного старта\" - метрика хорошая\n",
    "## Но результат отрицательный, практически все рекомендовано из одной категории."
   ]
  },
  {
   "cell_type": "raw",
   "id": "f4ce336e",
   "metadata": {},
   "source": []
  },
  {
   "cell_type": "markdown",
   "id": "4b626a5a",
   "metadata": {},
   "source": [
    "# 2. Расчет рекомендаций из топ 10 самых просматриваемых в разных категориях."
   ]
  },
  {
   "cell_type": "code",
   "execution_count": 28,
   "id": "a711374b",
   "metadata": {},
   "outputs": [
    {
     "name": "stdout",
     "output_type": "stream",
     "text": [
      "всего категорий 46\n"
     ]
    },
    {
     "data": {
      "text/plain": [
       "Телепередачи             13754869\n",
       "Видеоигры                 4300145\n",
       "Сериалы                   4155944\n",
       "Развлечения               3695543\n",
       "Лайфстайл                 3257533\n",
       "Животные                  2591015\n",
       "Юмор                      2271842\n",
       "Разное                    1946020\n",
       "Спорт                     1559732\n",
       "Фильмы                    1533569\n",
       "Кулинария                 1444345\n",
       "Музыка                    1439069\n",
       "Авто-мото                 1239389\n",
       "Детям                     1000688\n",
       "Путешествия                909293\n",
       "Образование                860023\n",
       "Искусство                  672293\n",
       "Аниме                      659491\n",
       "Здоровье                   597886\n",
       "Лайфхаки                   486997\n",
       "Интервью                   486381\n",
       "Хобби                      471990\n",
       "Сад и огород               441820\n",
       "Технологии и интернет      430942\n",
       "Эзотерика                  429106\n",
       "Name: category_title, dtype: int64"
      ]
     },
     "execution_count": 28,
     "metadata": {},
     "output_type": "execute_result"
    }
   ],
   "source": [
    "# Топ самых популярных категорий\n",
    "\n",
    "top = train['category_title'].value_counts()\n",
    "print('всего категорий', len(top))\n",
    "top_25 = top[:25]\n",
    "top_25"
   ]
  },
  {
   "cell_type": "code",
   "execution_count": 29,
   "id": "ac4bf4e7",
   "metadata": {},
   "outputs": [
    {
     "data": {
      "application/vnd.jupyter.widget-view+json": {
       "model_id": "c1eea5c22a394b8898f10d31c43b65d4",
       "version_major": 2,
       "version_minor": 0
      },
      "text/plain": [
       "  0%|          | 0/10 [00:00<?, ?it/s]"
      ]
     },
     "metadata": {},
     "output_type": "display_data"
    },
    {
     "data": {
      "text/plain": [
       "['video_1508131',\n",
       " 'video_1594159',\n",
       " 'video_1486704',\n",
       " 'video_291331',\n",
       " 'video_1425649',\n",
       " 'video_1135323',\n",
       " 'video_1836195',\n",
       " 'video_2159643',\n",
       " 'video_1867381',\n",
       " 'video_1623184']"
      ]
     },
     "execution_count": 29,
     "metadata": {},
     "output_type": "execute_result"
    }
   ],
   "source": [
    "top10_recs2 = []\n",
    "\n",
    "for video_title in tqdm(top_25[:10].index): \n",
    "    temp = train[train['category_title'] == video_title] # берем лучшее из топ-10 категорий    \n",
    "    pop_model = PopularRecommender(days = 10, dt_column = date)\n",
    "    pop_model.fit(temp)\n",
    "    top_recs = pop_model.recommend()\n",
    "    top10_recs2.append(top_recs[:1][0])\n",
    "    \n",
    "top10_recs2 = list(set(top10_recs2))\n",
    "top10_recs2"
   ]
  },
  {
   "cell_type": "code",
   "execution_count": 30,
   "id": "bb8c64d5",
   "metadata": {},
   "outputs": [],
   "source": [
    "with open(\"top10_recs2.pkl\", \"wb\") as file:\n",
    "    pickle.dump(top10_recs2, file)"
   ]
  },
  {
   "cell_type": "code",
   "execution_count": 31,
   "id": "b2fc8ec8",
   "metadata": {},
   "outputs": [
    {
     "name": "stdout",
     "output_type": "stream",
     "text": [
      "['Лайфстайл'\n",
      " 'Анастасия Попова («Бэби-тур») высказалась об обнаженных сценах']\n",
      "['Телепередачи' 'Выжить в Дубае, 7 выпуск']\n",
      "['Юмор' 'Смешные животные ? / №1']\n",
      "['Разное' 'Из-за чего на самом деле сорвалась свадьба Елены Воробей']\n",
      "['Сериалы'\n",
      " 'Зимородок (2022) 1,2,3,4,5,6,7,8,9,10,11,12,13,14,15,16,17,18,19,20 серия']\n",
      "['Фильмы' '❗️ \"ЗА ОТЦА\" - фильм про месть']\n",
      "['Видеоигры'\n",
      " 'NFS Unbound: первые впечатления! Глоток свежатины в аркадах! ?']\n",
      "['Спорт'\n",
      " 'Хейбати VS Самброс. ЗАРУБА. Назир. Ушу-Мастер VS Мири. Ялымов VS Намитов за пояс. Алисафа. НОКАУТ']\n",
      "['Развлечения' 'Давай сделаем ЭТО на кухне | Найти любовь в Интернете']\n",
      "['Животные' 'Симпатичный #корелла Кеша огрызается ☺️']\n"
     ]
    }
   ],
   "source": [
    "# Проверяем из каких категорий получился топ-10\n",
    "\n",
    "for item in top10_recs2:\n",
    "    print(train[['category_title', 'video_title']][train[item_id] == item].values[0])"
   ]
  },
  {
   "cell_type": "code",
   "execution_count": 32,
   "id": "4e02d88d",
   "metadata": {},
   "outputs": [
    {
     "data": {
      "text/html": [
       "<div>\n",
       "<style scoped>\n",
       "    .dataframe tbody tr th:only-of-type {\n",
       "        vertical-align: middle;\n",
       "    }\n",
       "\n",
       "    .dataframe tbody tr th {\n",
       "        vertical-align: top;\n",
       "    }\n",
       "\n",
       "    .dataframe thead th {\n",
       "        text-align: right;\n",
       "    }\n",
       "</style>\n",
       "<table border=\"1\" class=\"dataframe\">\n",
       "  <thead>\n",
       "    <tr style=\"text-align: right;\">\n",
       "      <th></th>\n",
       "      <th>user_id</th>\n",
       "      <th>item_id</th>\n",
       "    </tr>\n",
       "  </thead>\n",
       "  <tbody>\n",
       "    <tr>\n",
       "      <th>0</th>\n",
       "      <td>user_1000</td>\n",
       "      <td>[video_1508131, video_1594159, video_1486704, ...</td>\n",
       "    </tr>\n",
       "    <tr>\n",
       "      <th>1</th>\n",
       "      <td>user_100000</td>\n",
       "      <td>[video_1508131, video_1594159, video_1486704, ...</td>\n",
       "    </tr>\n",
       "    <tr>\n",
       "      <th>2</th>\n",
       "      <td>user_1000000</td>\n",
       "      <td>[video_1508131, video_1594159, video_1486704, ...</td>\n",
       "    </tr>\n",
       "    <tr>\n",
       "      <th>3</th>\n",
       "      <td>user_10000000</td>\n",
       "      <td>[video_1508131, video_1594159, video_1486704, ...</td>\n",
       "    </tr>\n",
       "    <tr>\n",
       "      <th>4</th>\n",
       "      <td>user_10000001</td>\n",
       "      <td>[video_1508131, video_1594159, video_1486704, ...</td>\n",
       "    </tr>\n",
       "  </tbody>\n",
       "</table>\n",
       "</div>"
      ],
      "text/plain": [
       "         user_id                                            item_id\n",
       "0      user_1000  [video_1508131, video_1594159, video_1486704, ...\n",
       "1    user_100000  [video_1508131, video_1594159, video_1486704, ...\n",
       "2   user_1000000  [video_1508131, video_1594159, video_1486704, ...\n",
       "3  user_10000000  [video_1508131, video_1594159, video_1486704, ...\n",
       "4  user_10000001  [video_1508131, video_1594159, video_1486704, ..."
      ]
     },
     "execution_count": 32,
     "metadata": {},
     "output_type": "execute_result"
    }
   ],
   "source": [
    "# Создадим файл решения\n",
    "\n",
    "pred_sub = valid_sub.copy()\n",
    "pred_sub = pred_sub.groupby(user_id)[item_id].apply(lambda x: list(top10_recs2)).reset_index()\n",
    "pred_sub.head(5)"
   ]
  },
  {
   "cell_type": "code",
   "execution_count": 33,
   "id": "8bbe3bc2",
   "metadata": {},
   "outputs": [
    {
     "data": {
      "text/plain": [
       "0.012748343333556887"
      ]
     },
     "execution_count": 33,
     "metadata": {},
     "output_type": "execute_result"
    }
   ],
   "source": [
    "# Считаем метрику\n",
    "\n",
    "mapk(valid_sub[item_id].values, pred_sub[item_id].values, k = 10)"
   ]
  },
  {
   "cell_type": "code",
   "execution_count": null,
   "id": "f9490d2d",
   "metadata": {},
   "outputs": [],
   "source": []
  },
  {
   "cell_type": "markdown",
   "id": "19e3d0bb",
   "metadata": {},
   "source": [
    "# 3. Удалим отрицательные эмоции."
   ]
  },
  {
   "cell_type": "code",
   "execution_count": 34,
   "id": "cbd9e490",
   "metadata": {},
   "outputs": [
    {
     "data": {
      "text/html": [
       "<div>\n",
       "<style scoped>\n",
       "    .dataframe tbody tr th:only-of-type {\n",
       "        vertical-align: middle;\n",
       "    }\n",
       "\n",
       "    .dataframe tbody tr th {\n",
       "        vertical-align: top;\n",
       "    }\n",
       "\n",
       "    .dataframe thead th {\n",
       "        text-align: right;\n",
       "    }\n",
       "</style>\n",
       "<table border=\"1\" class=\"dataframe\">\n",
       "  <thead>\n",
       "    <tr style=\"text-align: right;\">\n",
       "      <th></th>\n",
       "      <th>user_id</th>\n",
       "      <th>item_id</th>\n",
       "      <th>type</th>\n",
       "      <th>emoji</th>\n",
       "    </tr>\n",
       "  </thead>\n",
       "  <tbody>\n",
       "    <tr>\n",
       "      <th>0</th>\n",
       "      <td>user_21883648</td>\n",
       "      <td>video_2247834</td>\n",
       "      <td>v_top</td>\n",
       "      <td>v_top</td>\n",
       "    </tr>\n",
       "    <tr>\n",
       "      <th>1</th>\n",
       "      <td>user_24016046</td>\n",
       "      <td>video_2247834</td>\n",
       "      <td>v_top</td>\n",
       "      <td>v_top</td>\n",
       "    </tr>\n",
       "    <tr>\n",
       "      <th>2</th>\n",
       "      <td>user_20748867</td>\n",
       "      <td>video_22669</td>\n",
       "      <td>v_top</td>\n",
       "      <td>v_top</td>\n",
       "    </tr>\n",
       "  </tbody>\n",
       "</table>\n",
       "</div>"
      ],
      "text/plain": [
       "         user_id        item_id   type  emoji\n",
       "0  user_21883648  video_2247834  v_top  v_top\n",
       "1  user_24016046  video_2247834  v_top  v_top\n",
       "2  user_20748867    video_22669  v_top  v_top"
      ]
     },
     "execution_count": 34,
     "metadata": {},
     "output_type": "execute_result"
    }
   ],
   "source": [
    "emotions = pd.read_csv(path + 'emotions.csv')\n",
    "del emotions['date']\n",
    "emotions.head(3)"
   ]
  },
  {
   "cell_type": "code",
   "execution_count": 35,
   "id": "ab0fc2b3",
   "metadata": {},
   "outputs": [],
   "source": [
    "train = train.merge(emotions, how = 'left', on = ['user_id', 'item_id'])\n",
    "#del emotions; gc.collect()"
   ]
  },
  {
   "cell_type": "code",
   "execution_count": 36,
   "id": "811c9838",
   "metadata": {},
   "outputs": [
    {
     "data": {
      "text/plain": [
       "Index(['date', 'user_id', 'item_id', 'watch_time', 'is_autorized',\n",
       "       'video_title', 'category_title', 'duration', 'type', 'emoji'],\n",
       "      dtype='object')"
      ]
     },
     "execution_count": 36,
     "metadata": {},
     "output_type": "execute_result"
    }
   ],
   "source": [
    "train.columns"
   ]
  },
  {
   "cell_type": "code",
   "execution_count": 37,
   "id": "4845595e",
   "metadata": {},
   "outputs": [
    {
     "data": {
      "text/plain": [
       "v_top_v_top                        234034\n",
       "pos_emotions_Like                  114048\n",
       "pos_emotions_New_Fire               39093\n",
       "pos_emotions_Heart                  33794\n",
       "pos_emotions_Happy_glasses          15085\n",
       "pos_emotions_Laugh                  12402\n",
       "pos_emotions_Happy_Star_glasses      7394\n",
       "neg_emotions_Dislike                 1341\n",
       "neg_emotions_Sickness                 288\n",
       "neg_emotions_Gape                     209\n",
       "neg_emotions_Angry                    190\n",
       "neg_emotions_Crying                   159\n",
       "neg_emotions_Closed_mauth              52\n",
       "Name: type_emoji, dtype: int64"
      ]
     },
     "execution_count": 37,
     "metadata": {},
     "output_type": "execute_result"
    }
   ],
   "source": [
    "train['type_emoji'] = train['type'] + '_' + train['emoji']\n",
    "train['type_emoji'].value_counts()"
   ]
  },
  {
   "cell_type": "code",
   "execution_count": 38,
   "id": "552906ea",
   "metadata": {},
   "outputs": [
    {
     "name": "stdout",
     "output_type": "stream",
     "text": [
      "CPU times: user 28.1 s, sys: 26 s, total: 54.1 s\n",
      "Wall time: 2min 12s\n"
     ]
    }
   ],
   "source": [
    "%%time\n",
    "\n",
    "train2 = train.copy()\n",
    "train2 = train2[train2['type_emoji'] != 'neg_emotions_Closed_mauth']\n",
    "train2 = train2[train2['type_emoji'] != 'neg_emotions_Crying']\n",
    "train2 = train2[train2['type_emoji'] != 'neg_emotions_Gape']\n",
    "train2 = train2[train2['type_emoji'] != 'neg_emotions_Angry']\n",
    "#train2 = train2[train2['type_emoji'] != 'neg_emotions_Sickness']\n",
    "#train2 = train2[train2['type_emoji'] != 'neg_emotions_Dislike']\n",
    "gc.collect();"
   ]
  },
  {
   "cell_type": "code",
   "execution_count": 39,
   "id": "ad00dd0a",
   "metadata": {},
   "outputs": [],
   "source": [
    "pop_model = PopularRecommender(days = 10, dt_column = date)\n",
    "pop_model.fit(train2)"
   ]
  },
  {
   "cell_type": "code",
   "execution_count": 40,
   "id": "d2c2165f",
   "metadata": {},
   "outputs": [
    {
     "data": {
      "text/plain": [
       "['video_1594159',\n",
       " 'video_170129',\n",
       " 'video_1508131',\n",
       " 'video_68646',\n",
       " 'video_1761620',\n",
       " 'video_302657',\n",
       " 'video_2052690',\n",
       " 'video_803844',\n",
       " 'video_1508623',\n",
       " 'video_255770']"
      ]
     },
     "execution_count": 40,
     "metadata": {},
     "output_type": "execute_result"
    }
   ],
   "source": [
    "top10_recs3 = pop_model.recommend()\n",
    "list(top10_recs3)"
   ]
  },
  {
   "cell_type": "code",
   "execution_count": 41,
   "id": "2fdeb64f",
   "metadata": {},
   "outputs": [],
   "source": [
    "with open(\"top10_recs3.pkl\", \"wb\") as file:\n",
    "    pickle.dump(top10_recs3, file)"
   ]
  },
  {
   "cell_type": "code",
   "execution_count": 42,
   "id": "f1e38031",
   "metadata": {},
   "outputs": [
    {
     "data": {
      "text/html": [
       "<div>\n",
       "<style scoped>\n",
       "    .dataframe tbody tr th:only-of-type {\n",
       "        vertical-align: middle;\n",
       "    }\n",
       "\n",
       "    .dataframe tbody tr th {\n",
       "        vertical-align: top;\n",
       "    }\n",
       "\n",
       "    .dataframe thead th {\n",
       "        text-align: right;\n",
       "    }\n",
       "</style>\n",
       "<table border=\"1\" class=\"dataframe\">\n",
       "  <thead>\n",
       "    <tr style=\"text-align: right;\">\n",
       "      <th></th>\n",
       "      <th>user_id</th>\n",
       "      <th>item_id</th>\n",
       "    </tr>\n",
       "  </thead>\n",
       "  <tbody>\n",
       "    <tr>\n",
       "      <th>0</th>\n",
       "      <td>user_1000</td>\n",
       "      <td>[video_1594159, video_170129, video_1508131, v...</td>\n",
       "    </tr>\n",
       "    <tr>\n",
       "      <th>1</th>\n",
       "      <td>user_100000</td>\n",
       "      <td>[video_1594159, video_170129, video_1508131, v...</td>\n",
       "    </tr>\n",
       "    <tr>\n",
       "      <th>2</th>\n",
       "      <td>user_1000000</td>\n",
       "      <td>[video_1594159, video_170129, video_1508131, v...</td>\n",
       "    </tr>\n",
       "    <tr>\n",
       "      <th>3</th>\n",
       "      <td>user_10000000</td>\n",
       "      <td>[video_1594159, video_170129, video_1508131, v...</td>\n",
       "    </tr>\n",
       "    <tr>\n",
       "      <th>4</th>\n",
       "      <td>user_10000001</td>\n",
       "      <td>[video_1594159, video_170129, video_1508131, v...</td>\n",
       "    </tr>\n",
       "  </tbody>\n",
       "</table>\n",
       "</div>"
      ],
      "text/plain": [
       "         user_id                                            item_id\n",
       "0      user_1000  [video_1594159, video_170129, video_1508131, v...\n",
       "1    user_100000  [video_1594159, video_170129, video_1508131, v...\n",
       "2   user_1000000  [video_1594159, video_170129, video_1508131, v...\n",
       "3  user_10000000  [video_1594159, video_170129, video_1508131, v...\n",
       "4  user_10000001  [video_1594159, video_170129, video_1508131, v..."
      ]
     },
     "execution_count": 42,
     "metadata": {},
     "output_type": "execute_result"
    }
   ],
   "source": [
    "# Создадим файл решения\n",
    "\n",
    "pred_sub = valid_sub.copy()\n",
    "pred_sub = pred_sub.groupby(user_id)[item_id].apply(lambda x: list(top10_recs3)).reset_index()\n",
    "pred_sub.head(5)"
   ]
  },
  {
   "cell_type": "code",
   "execution_count": 43,
   "id": "251e5a76",
   "metadata": {},
   "outputs": [
    {
     "data": {
      "text/plain": [
       "0.020709042050586744"
      ]
     },
     "execution_count": 43,
     "metadata": {},
     "output_type": "execute_result"
    }
   ],
   "source": [
    "# Считаем метрику\n",
    "\n",
    "mapk(valid_sub[item_id].values, pred_sub[item_id].values, k = 10)"
   ]
  },
  {
   "cell_type": "code",
   "execution_count": 55,
   "id": "3458a54e",
   "metadata": {},
   "outputs": [
    {
     "name": "stdout",
     "output_type": "stream",
     "text": [
      "['Телепередачи' 'Выжить в Дубае, 7 выпуск']\n",
      "['Искусство' 'Филипп Янковский высказался об Андрее Тарковском']\n",
      "['Лайфстайл'\n",
      " 'Анастасия Попова («Бэби-тур») высказалась об обнаженных сценах']\n",
      "['Телепередачи' 'Выжить в Дубае, 8 выпуск']\n",
      "['Телепередачи' 'Соловьёв LIVE | Круглосуточный канал']\n",
      "['Телепередачи' 'Выжить в Дубае, 6 выпуск']\n",
      "['Телепередачи' 'Прямой эфир ТНТ']\n",
      "['Телепередачи' 'Прямой эфир Звезда']\n",
      "['Телепередачи' 'Выжить в Дубае, 1 выпуск']\n",
      "['Телепередачи' 'Прямой эфир ТВ-3']\n"
     ]
    }
   ],
   "source": [
    "# Проверяем из каких категорий получился топ-10\n",
    "\n",
    "for item in top10_recs3:\n",
    "    print(train[['category_title', 'video_title']][train[item_id] == item].values[0])"
   ]
  },
  {
   "cell_type": "code",
   "execution_count": null,
   "id": "341e9d29",
   "metadata": {},
   "outputs": [],
   "source": []
  },
  {
   "cell_type": "markdown",
   "id": "d49e4eef",
   "metadata": {},
   "source": [
    "# 4. Удалим записи с продолжительностью просмотра 0.1% и менее."
   ]
  },
  {
   "cell_type": "code",
   "execution_count": 44,
   "id": "9c38c5ab",
   "metadata": {},
   "outputs": [
    {
     "name": "stdout",
     "output_type": "stream",
     "text": [
      "(53657182, 11)\n",
      "(3797385, 11)\n"
     ]
    }
   ],
   "source": [
    "print(train2.shape)\n",
    "\n",
    "train2['views percentage'] = train2['watch_time'] / train2['duration'] * 100\n",
    "train2 = train2[train2['views percentage'] == train2['views percentage']]\n",
    "train2 = train2[train2['views percentage'] >= 0.1]\n",
    "\n",
    "del train2['views percentage']\n",
    "print(train2.shape)"
   ]
  },
  {
   "cell_type": "code",
   "execution_count": 45,
   "id": "f590e266",
   "metadata": {},
   "outputs": [],
   "source": [
    "pop_model = PopularRecommender(days = 10, dt_column = date)\n",
    "pop_model.fit(train2)"
   ]
  },
  {
   "cell_type": "code",
   "execution_count": 46,
   "id": "993344f9",
   "metadata": {},
   "outputs": [
    {
     "data": {
      "text/plain": [
       "['video_1761620',\n",
       " 'video_2052690',\n",
       " 'video_803844',\n",
       " 'video_255770',\n",
       " 'video_1628773',\n",
       " 'video_1979002',\n",
       " 'video_1738263',\n",
       " 'video_505893',\n",
       " 'video_956001',\n",
       " 'video_892296']"
      ]
     },
     "execution_count": 46,
     "metadata": {},
     "output_type": "execute_result"
    }
   ],
   "source": [
    "top10_recs4 = pop_model.recommend()\n",
    "list(top10_recs4)"
   ]
  },
  {
   "cell_type": "code",
   "execution_count": 47,
   "id": "3ea438fe",
   "metadata": {},
   "outputs": [
    {
     "data": {
      "text/html": [
       "<div>\n",
       "<style scoped>\n",
       "    .dataframe tbody tr th:only-of-type {\n",
       "        vertical-align: middle;\n",
       "    }\n",
       "\n",
       "    .dataframe tbody tr th {\n",
       "        vertical-align: top;\n",
       "    }\n",
       "\n",
       "    .dataframe thead th {\n",
       "        text-align: right;\n",
       "    }\n",
       "</style>\n",
       "<table border=\"1\" class=\"dataframe\">\n",
       "  <thead>\n",
       "    <tr style=\"text-align: right;\">\n",
       "      <th></th>\n",
       "      <th>user_id</th>\n",
       "      <th>item_id</th>\n",
       "    </tr>\n",
       "  </thead>\n",
       "  <tbody>\n",
       "    <tr>\n",
       "      <th>0</th>\n",
       "      <td>user_1000</td>\n",
       "      <td>[video_1761620, video_2052690, video_803844, v...</td>\n",
       "    </tr>\n",
       "    <tr>\n",
       "      <th>1</th>\n",
       "      <td>user_100000</td>\n",
       "      <td>[video_1761620, video_2052690, video_803844, v...</td>\n",
       "    </tr>\n",
       "    <tr>\n",
       "      <th>2</th>\n",
       "      <td>user_1000000</td>\n",
       "      <td>[video_1761620, video_2052690, video_803844, v...</td>\n",
       "    </tr>\n",
       "    <tr>\n",
       "      <th>3</th>\n",
       "      <td>user_10000000</td>\n",
       "      <td>[video_1761620, video_2052690, video_803844, v...</td>\n",
       "    </tr>\n",
       "    <tr>\n",
       "      <th>4</th>\n",
       "      <td>user_10000001</td>\n",
       "      <td>[video_1761620, video_2052690, video_803844, v...</td>\n",
       "    </tr>\n",
       "  </tbody>\n",
       "</table>\n",
       "</div>"
      ],
      "text/plain": [
       "         user_id                                            item_id\n",
       "0      user_1000  [video_1761620, video_2052690, video_803844, v...\n",
       "1    user_100000  [video_1761620, video_2052690, video_803844, v...\n",
       "2   user_1000000  [video_1761620, video_2052690, video_803844, v...\n",
       "3  user_10000000  [video_1761620, video_2052690, video_803844, v...\n",
       "4  user_10000001  [video_1761620, video_2052690, video_803844, v..."
      ]
     },
     "execution_count": 47,
     "metadata": {},
     "output_type": "execute_result"
    }
   ],
   "source": [
    "# Создадим файл решения\n",
    "\n",
    "pred_sub = valid_sub.copy()\n",
    "pred_sub = pred_sub.groupby(user_id)[item_id].apply(lambda x: list(top10_recs4)).reset_index()\n",
    "pred_sub.head(5)"
   ]
  },
  {
   "cell_type": "code",
   "execution_count": 48,
   "id": "e183ceef",
   "metadata": {},
   "outputs": [],
   "source": [
    "with open(\"top10_recs4.pkl\", \"wb\") as file:\n",
    "    pickle.dump(top10_recs4, file)"
   ]
  },
  {
   "cell_type": "code",
   "execution_count": 49,
   "id": "d1a88534",
   "metadata": {},
   "outputs": [
    {
     "data": {
      "text/plain": [
       "0.012670803371237646"
      ]
     },
     "execution_count": 49,
     "metadata": {},
     "output_type": "execute_result"
    }
   ],
   "source": [
    "# Считаем метрику\n",
    "\n",
    "mapk(valid_sub[item_id].values, pred_sub[item_id].values, k = 10)"
   ]
  },
  {
   "cell_type": "code",
   "execution_count": 56,
   "id": "72321d88",
   "metadata": {},
   "outputs": [
    {
     "name": "stdout",
     "output_type": "stream",
     "text": [
      "['Телепередачи' 'Соловьёв LIVE | Круглосуточный канал']\n",
      "['Телепередачи' 'Прямой эфир ТНТ']\n",
      "['Телепередачи' 'Прямой эфир Звезда']\n",
      "['Телепередачи' 'Прямой эфир ТВ-3']\n",
      "['Телепередачи' 'Прямой эфир Пятница']\n",
      "['Телепередачи' 'Первый канал. Прямой эфир']\n",
      "['Телепередачи' 'Прямой эфир Ю-ТВ']\n",
      "['Телепередачи' 'Прямой эфир НТВ']\n",
      "['Телепередачи' 'Прямой эфир ТНТ4']\n",
      "['Телепередачи' 'Прямой эфир МУЗ-ТВ']\n"
     ]
    }
   ],
   "source": [
    "# Проверяем из каких категорий получился топ-10\n",
    "\n",
    "for item in top10_recs4:\n",
    "    print(train[['category_title', 'video_title']][train[item_id] == item].values[0])"
   ]
  },
  {
   "cell_type": "code",
   "execution_count": null,
   "id": "0cf9fe05",
   "metadata": {},
   "outputs": [],
   "source": []
  },
  {
   "cell_type": "markdown",
   "id": "a5c28d7d",
   "metadata": {},
   "source": [
    "# 5. Дополнительно предлагается добавить еще несколько топ-10, которые рекомендавать случайным образом."
   ]
  },
  {
   "cell_type": "code",
   "execution_count": 50,
   "id": "5bd9ea7c",
   "metadata": {
    "scrolled": true
   },
   "outputs": [
    {
     "data": {
      "application/vnd.jupyter.widget-view+json": {
       "model_id": "754c8738d1db4265abfe10a62676240a",
       "version_major": 2,
       "version_minor": 0
      },
      "text/plain": [
       "  0%|          | 0/5 [00:00<?, ?it/s]"
      ]
     },
     "metadata": {},
     "output_type": "display_data"
    },
    {
     "data": {
      "text/plain": [
       "[['video_769766',\n",
       "  'video_1480251',\n",
       "  'video_2002914',\n",
       "  'video_1508131',\n",
       "  'video_1667523',\n",
       "  'video_2331189',\n",
       "  'video_1761620',\n",
       "  'video_1025464',\n",
       "  'video_1155457',\n",
       "  'video_897700'],\n",
       " ['video_458888',\n",
       "  'video_1921490',\n",
       "  'video_1600266',\n",
       "  'video_2002914',\n",
       "  'video_1286888',\n",
       "  'video_291331',\n",
       "  'video_1810173',\n",
       "  'video_2247834',\n",
       "  'video_1873054',\n",
       "  'video_2052690'],\n",
       " ['video_2002914',\n",
       "  'video_1810173',\n",
       "  'video_1286888',\n",
       "  'video_754241',\n",
       "  'video_1025464',\n",
       "  'video_1873054',\n",
       "  'video_2247834',\n",
       "  'video_881410',\n",
       "  'video_986887',\n",
       "  'video_1761620'],\n",
       " ['video_1025464',\n",
       "  'video_1155457',\n",
       "  'video_769766',\n",
       "  'video_754241',\n",
       "  'video_1480251',\n",
       "  'video_1759381',\n",
       "  'video_2331189',\n",
       "  'video_1921490',\n",
       "  'video_1761620',\n",
       "  'video_1667523'],\n",
       " ['video_2002914',\n",
       "  'video_2286239',\n",
       "  'video_458888',\n",
       "  'video_8186',\n",
       "  'video_897700',\n",
       "  'video_1667523',\n",
       "  'video_803844',\n",
       "  'video_1480251',\n",
       "  'video_769766',\n",
       "  'video_754241']]"
      ]
     },
     "execution_count": 50,
     "metadata": {},
     "output_type": "execute_result"
    }
   ],
   "source": [
    "import random\n",
    "\n",
    "top10_recs_random = []\n",
    "\n",
    "for i in tqdm(range(5)):\n",
    "    top10_recs_temp = []\n",
    "    for video_title in top_25[0:10].sample(10).index:\n",
    "        temp = train2[train2['category_title'] == video_title]  # выбираем категорию    \n",
    "        pop_model = PopularRecommender(days = 10, dt_column = date)\n",
    "        pop_model.fit(temp)\n",
    "        top_recs = pop_model.recommend()\n",
    "    \n",
    "        s = random.choice([1, 2, 3]) # случайный выбор из топ-3 каждой категории\n",
    "    \n",
    "        if video_title != 'Новости':\n",
    "            top10_recs_temp.append(top_recs[s-1:s][0])\n",
    "        else:\n",
    "            top10_recs_temp.append(top_recs[:1][0])\n",
    "        \n",
    "    top10_recs_random.append(top10_recs_temp)\n",
    "    \n",
    "top10_recs_random"
   ]
  },
  {
   "cell_type": "code",
   "execution_count": 51,
   "id": "e4df77ab",
   "metadata": {},
   "outputs": [],
   "source": [
    "with open(\"top10_recs_random.pkl\", \"wb\") as file:\n",
    "    pickle.dump(top10_recs_random, file)"
   ]
  },
  {
   "cell_type": "code",
   "execution_count": 52,
   "id": "09d6bbe5",
   "metadata": {},
   "outputs": [
    {
     "name": "stdout",
     "output_type": "stream",
     "text": [
      "CPU times: user 3.13 s, sys: 277 ms, total: 3.4 s\n",
      "Wall time: 3.97 s\n"
     ]
    },
    {
     "data": {
      "text/html": [
       "<div>\n",
       "<style scoped>\n",
       "    .dataframe tbody tr th:only-of-type {\n",
       "        vertical-align: middle;\n",
       "    }\n",
       "\n",
       "    .dataframe tbody tr th {\n",
       "        vertical-align: top;\n",
       "    }\n",
       "\n",
       "    .dataframe thead th {\n",
       "        text-align: right;\n",
       "    }\n",
       "</style>\n",
       "<table border=\"1\" class=\"dataframe\">\n",
       "  <thead>\n",
       "    <tr style=\"text-align: right;\">\n",
       "      <th></th>\n",
       "      <th>user_id</th>\n",
       "      <th>recs</th>\n",
       "    </tr>\n",
       "  </thead>\n",
       "  <tbody>\n",
       "    <tr>\n",
       "      <th>56242112</th>\n",
       "      <td>user_8599328</td>\n",
       "      <td>[video_458888, video_1921490, video_1600266, v...</td>\n",
       "    </tr>\n",
       "    <tr>\n",
       "      <th>56242113</th>\n",
       "      <td>user_13657319</td>\n",
       "      <td>[video_458888, video_1921490, video_1600266, v...</td>\n",
       "    </tr>\n",
       "    <tr>\n",
       "      <th>56242114</th>\n",
       "      <td>user_1229611</td>\n",
       "      <td>[video_769766, video_1480251, video_2002914, v...</td>\n",
       "    </tr>\n",
       "    <tr>\n",
       "      <th>56242115</th>\n",
       "      <td>user_11310214</td>\n",
       "      <td>[video_769766, video_1480251, video_2002914, v...</td>\n",
       "    </tr>\n",
       "    <tr>\n",
       "      <th>56242116</th>\n",
       "      <td>user_2365988</td>\n",
       "      <td>[video_1025464, video_1155457, video_769766, v...</td>\n",
       "    </tr>\n",
       "    <tr>\n",
       "      <th>...</th>\n",
       "      <td>...</td>\n",
       "      <td>...</td>\n",
       "    </tr>\n",
       "    <tr>\n",
       "      <th>69954378</th>\n",
       "      <td>user_15478739</td>\n",
       "      <td>[video_769766, video_1480251, video_2002914, v...</td>\n",
       "    </tr>\n",
       "    <tr>\n",
       "      <th>69954379</th>\n",
       "      <td>user_25783543</td>\n",
       "      <td>[video_458888, video_1921490, video_1600266, v...</td>\n",
       "    </tr>\n",
       "    <tr>\n",
       "      <th>69954380</th>\n",
       "      <td>user_3507470</td>\n",
       "      <td>[video_458888, video_1921490, video_1600266, v...</td>\n",
       "    </tr>\n",
       "    <tr>\n",
       "      <th>69954381</th>\n",
       "      <td>user_13128840</td>\n",
       "      <td>[video_458888, video_1921490, video_1600266, v...</td>\n",
       "    </tr>\n",
       "    <tr>\n",
       "      <th>69954382</th>\n",
       "      <td>user_5633301</td>\n",
       "      <td>[video_769766, video_1480251, video_2002914, v...</td>\n",
       "    </tr>\n",
       "  </tbody>\n",
       "</table>\n",
       "<p>12850741 rows × 2 columns</p>\n",
       "</div>"
      ],
      "text/plain": [
       "                user_id                                               recs\n",
       "56242112   user_8599328  [video_458888, video_1921490, video_1600266, v...\n",
       "56242113  user_13657319  [video_458888, video_1921490, video_1600266, v...\n",
       "56242114   user_1229611  [video_769766, video_1480251, video_2002914, v...\n",
       "56242115  user_11310214  [video_769766, video_1480251, video_2002914, v...\n",
       "56242116   user_2365988  [video_1025464, video_1155457, video_769766, v...\n",
       "...                 ...                                                ...\n",
       "69954378  user_15478739  [video_769766, video_1480251, video_2002914, v...\n",
       "69954379  user_25783543  [video_458888, video_1921490, video_1600266, v...\n",
       "69954380   user_3507470  [video_458888, video_1921490, video_1600266, v...\n",
       "69954381  user_13128840  [video_458888, video_1921490, video_1600266, v...\n",
       "69954382   user_5633301  [video_769766, video_1480251, video_2002914, v...\n",
       "\n",
       "[12850741 rows x 2 columns]"
      ]
     },
     "execution_count": 52,
     "metadata": {},
     "output_type": "execute_result"
    }
   ],
   "source": [
    "%%time\n",
    "\n",
    "import random\n",
    "\n",
    "with open('top10_recs_random.pkl', 'rb') as f:\n",
    "    top10_recs_global = pickle.load(f)\n",
    "\n",
    "#pred_sub = pd.read_csv(path + \"sample_submission.csv\")\n",
    "\n",
    "pred_sub = valid[[user_id]].copy()\n",
    "pred_sub['recs'] = '[]'\n",
    "\n",
    "pred_sub['recs'] = pred_sub['recs'].apply(lambda x: random.choice(top10_recs_global))\n",
    "    \n",
    "pred_sub"
   ]
  },
  {
   "cell_type": "code",
   "execution_count": 53,
   "id": "ca069bed",
   "metadata": {},
   "outputs": [
    {
     "data": {
      "text/plain": [
       "0.004482076457711597"
      ]
     },
     "execution_count": 53,
     "metadata": {},
     "output_type": "execute_result"
    }
   ],
   "source": [
    "# Считаем метрику\n",
    "\n",
    "mapk(valid_sub[item_id], pred_sub['recs'], k = 10)"
   ]
  },
  {
   "cell_type": "code",
   "execution_count": null,
   "id": "36ca0284",
   "metadata": {},
   "outputs": [],
   "source": []
  },
  {
   "cell_type": "markdown",
   "id": "f69ac9fe",
   "metadata": {},
   "source": [
    "# Вывод:"
   ]
  },
  {
   "cell_type": "markdown",
   "id": "79bcdea1",
   "metadata": {},
   "source": [
    "# При добавлении вариативности (выбор топ из разных категорий \"2. Расчет рекомендаций из топ 10 самых просматриваемых в разных категориях\"), метрика качества снижается, однако в допустимых пределах. \n",
    "## Поэтому следует применять именно этот метод - так мы больше охватим интресов новых пользователей."
   ]
  },
  {
   "cell_type": "code",
   "execution_count": null,
   "id": "3d3db3c5",
   "metadata": {},
   "outputs": [],
   "source": []
  }
 ],
 "metadata": {
  "kernelspec": {
   "display_name": "Python 3 (ipykernel)",
   "language": "python",
   "name": "python3"
  },
  "language_info": {
   "codemirror_mode": {
    "name": "ipython",
    "version": 3
   },
   "file_extension": ".py",
   "mimetype": "text/x-python",
   "name": "python",
   "nbconvert_exporter": "python",
   "pygments_lexer": "ipython3",
   "version": "3.9.17"
  }
 },
 "nbformat": 4,
 "nbformat_minor": 5
}
